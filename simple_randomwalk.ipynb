{
  "nbformat": 4,
  "nbformat_minor": 0,
  "metadata": {
    "colab": {
      "provenance": [],
      "authorship_tag": "ABX9TyNo9ubxCPDc5j8YuLIDJbsx",
      "include_colab_link": true
    },
    "kernelspec": {
      "name": "python3",
      "display_name": "Python 3"
    },
    "language_info": {
      "name": "python"
    }
  },
  "cells": [
    {
      "cell_type": "markdown",
      "metadata": {
        "id": "view-in-github",
        "colab_type": "text"
      },
      "source": [
        "<a href=\"https://colab.research.google.com/github/BRamya14/Reinforcement-Learning/blob/main/simple_randomwalk.ipynb\" target=\"_parent\"><img src=\"https://colab.research.google.com/assets/colab-badge.svg\" alt=\"Open In Colab\"/></a>"
      ]
    },
    {
      "cell_type": "code",
      "execution_count": null,
      "metadata": {
        "colab": {
          "base_uri": "https://localhost:8080/"
        },
        "id": "TJXC1yYPc0aj",
        "outputId": "f4f95ee9-46cd-48f7-f3d3-b652a4df618d"
      },
      "outputs": [
        {
          "output_type": "stream",
          "name": "stdout",
          "text": [
            "Episode 1: Total Reward = -1\n",
            "Episode 2: Total Reward = -1\n",
            "Episode 3: Total Reward = -1\n",
            "Episode 4: Total Reward = -1\n",
            "Episode 5: Total Reward = -1\n",
            "Episode 6: Total Reward = -1\n",
            "Episode 7: Total Reward = -1\n",
            "Episode 8: Total Reward = -1\n",
            "Episode 9: Total Reward = -1\n",
            "Episode 10: Total Reward = -1\n",
            "\n",
            "Learned Q-table:\n",
            "[[ 0.          0.        ]\n",
            " [-0.99902344  0.        ]\n",
            " [ 0.          0.        ]\n",
            " [ 0.          0.        ]\n",
            " [ 0.          0.        ]\n",
            " [ 0.          0.        ]\n",
            " [ 0.          0.        ]]\n"
          ]
        }
      ],
      "source": [
        "import numpy as np\n",
        "\n",
        "# Function to choose an action based on epsilon-greedy policy\n",
        "def choose_action(state, q_table, epsilon):\n",
        "    if np.random.uniform() < epsilon:\n",
        "        # Explore (choose a random action)\n",
        "        action = np.random.randint(0, 2)\n",
        "    else:\n",
        "        # Exploit (choose the action with maximum Q-value)\n",
        "        action = np.argmax(q_table[state])\n",
        "    return action\n",
        "\n",
        "# Function to update Q-values based on the action taken and reward received\n",
        "def update_q_table(state, action, reward, next_state, alpha, gamma, q_table):\n",
        "    q_table[state, action] += alpha * (reward + gamma * np.max(q_table[next_state]) - q_table[state, action])\n",
        "\n",
        "# Function to run the random walk simulation\n",
        "def run_random_walk(num_episodes, alpha, gamma, epsilon):\n",
        "    # Initialize the Q-table\n",
        "    q_table = np.zeros((7, 2))  # Q-table with 7 states (0-6) and 2 actions (0: backward, 1: forward)\n",
        "\n",
        "    # Iterate over episodes\n",
        "    for episode in range(num_episodes):\n",
        "        # Reset the state to the middle position (state 3)\n",
        "        state = 3\n",
        "        done = False\n",
        "\n",
        "        # Keep track of the total episode reward\n",
        "        total_reward = 0\n",
        "\n",
        "        # Loop within each episode until the agent reaches the terminal states\n",
        "        while not done:\n",
        "            # Choose an action based on epsilon-greedy policy\n",
        "            action = choose_action(state, q_table, epsilon)\n",
        "\n",
        "            # Take the chosen action and observe the next state and reward\n",
        "            if action == 0:\n",
        "                next_state = state - 1\n",
        "                reward = -1 if state == 1 else 0  # Terminal state 0\n",
        "            else:\n",
        "                next_state = state + 1\n",
        "                reward = 1 if state == 5 else 0  # Terminal state 6\n",
        "\n",
        "            # Update the Q-table based on the action taken and reward received\n",
        "            update_q_table(state, action, reward, next_state, alpha, gamma, q_table)\n",
        "\n",
        "            # Update the current state and accumulate the total reward\n",
        "            state = next_state\n",
        "            total_reward += reward\n",
        "\n",
        "            # Check if the agent has reached a terminal state\n",
        "            if state == 0 or state == 6:\n",
        "                done = True\n",
        "\n",
        "        # Print the total reward for the episode\n",
        "        print(\"Episode {}: Total Reward = {}\".format(episode + 1, total_reward))\n",
        "\n",
        "    # Return the learned Q-table\n",
        "    return q_table\n",
        "\n",
        "# Set the hyperparameters\n",
        "num_episodes = 10\n",
        "alpha = 0.5  # Learning rate\n",
        "gamma = 0.9  # Discount factor\n",
        "epsilon = 0.1  # Exploration rate\n",
        "\n",
        "# Run the random walk simulation\n",
        "q_table = run_random_walk(num_episodes, alpha, gamma, epsilon)\n",
        "\n",
        "# Print the learned Q-table\n",
        "print(\"\\nLearned Q-table:\")\n",
        "print(q_table)\n"
      ]
    }
  ]
}